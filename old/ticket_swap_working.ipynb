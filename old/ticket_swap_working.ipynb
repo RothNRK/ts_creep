{
 "cells": [
  {
   "cell_type": "code",
   "execution_count": null,
   "metadata": {
    "collapsed": false
   },
   "outputs": [],
   "source": [
    "from bs4 import BeautifulSoup\n",
    "import messenger\n",
    "import scrapper\n",
    "import ticketswap\n",
    "\n",
    "reload(messenger)\n",
    "reload(scrapper)\n",
    "reload(ticketswap)"
   ]
  },
  {
   "cell_type": "code",
   "execution_count": null,
   "metadata": {
    "collapsed": false
   },
   "outputs": [],
   "source": [
    "url = 'https://www.ticketswap.nl/event/frank-carter-the-rattlesnakes-/dae96a33-5093-4218-b2fe-3db3b2681450'\n",
    "concert = ticketswap.TicketSwapTrigger(main_url=url, t_min=15, t_max=30)\n",
    "concert.run_task()"
   ]
  }
 ],
 "metadata": {
  "kernelspec": {
   "display_name": "Python 2",
   "language": "python",
   "name": "python2"
  },
  "language_info": {
   "codemirror_mode": {
    "name": "ipython",
    "version": 2
   },
   "file_extension": ".py",
   "mimetype": "text/x-python",
   "name": "python",
   "nbconvert_exporter": "python",
   "pygments_lexer": "ipython2",
   "version": "2.7.10"
  }
 },
 "nbformat": 4,
 "nbformat_minor": 0
}
